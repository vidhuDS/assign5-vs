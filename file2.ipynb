{
 "cells": [
  {
   "cell_type": "code",
   "execution_count": 1,
   "id": "072d19be-2a20-408f-80a6-12dba15596e7",
   "metadata": {},
   "outputs": [
    {
     "data": {
      "text/plain": [
       "'hello, this is file 2'"
      ]
     },
     "execution_count": 1,
     "metadata": {},
     "output_type": "execute_result"
    }
   ],
   "source": [
    "\"hello, this is file 2\""
   ]
  },
  {
   "cell_type": "code",
   "execution_count": 2,
   "id": "d78aa1fc-2a6b-4d3d-8499-cac72d8a83a3",
   "metadata": {},
   "outputs": [
    {
     "data": {
      "text/plain": [
       "88"
      ]
     },
     "execution_count": 2,
     "metadata": {},
     "output_type": "execute_result"
    }
   ],
   "source": [
    "55 + 33"
   ]
  },
  {
   "cell_type": "code",
   "execution_count": null,
   "id": "63e52cbb-3be0-47a3-9d33-8793f01f7b0d",
   "metadata": {},
   "outputs": [],
   "source": []
  }
 ],
 "metadata": {
  "kernelspec": {
   "display_name": "Python 3 (ipykernel)",
   "language": "python",
   "name": "python3"
  },
  "language_info": {
   "codemirror_mode": {
    "name": "ipython",
    "version": 3
   },
   "file_extension": ".py",
   "mimetype": "text/x-python",
   "name": "python",
   "nbconvert_exporter": "python",
   "pygments_lexer": "ipython3",
   "version": "3.9.12"
  }
 },
 "nbformat": 4,
 "nbformat_minor": 5
}
